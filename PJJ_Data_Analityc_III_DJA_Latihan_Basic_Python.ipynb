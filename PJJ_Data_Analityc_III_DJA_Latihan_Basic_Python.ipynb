{
  "cells": [
    {
      "cell_type": "markdown",
      "id": "3d3d3d9c",
      "metadata": {
        "id": "3d3d3d9c"
      },
      "source": [
        "=====================================================\n",
        "# TUGAS UNTUK ASYNCHRONOUS\n",
        "=====================================================\n",
        "\n",
        "## Latihan 1:\n",
        "Buatlah program yang meminta user untuk memasukkan 4 buah string: \"namadepan\", \"namabelakang\", \"hobi\", \"asal\"\n",
        "\n",
        "Susunlah input tersebut menjadi sebuah outpur kalimat menjadi seperti ini :\n",
        "\"Halo nama saya (namadepan) (namabelakang), saya berasal dari (asal) dan hobby saya adalah (hobi)\"\n",
        "\n",
        "Hint: Gunakan metode-metode yang sudah dipelajari dan amati perbedaannya."
      ]
    },
    {
      "cell_type": "code",
      "execution_count": 54,
      "id": "24bb9309",
      "metadata": {
        "id": "24bb9309",
        "colab": {
          "base_uri": "https://localhost:8080/"
        },
        "outputId": "30f3ede1-c396-44f4-e5b7-7fc1400ed01f"
      },
      "outputs": [
        {
          "output_type": "stream",
          "name": "stdout",
          "text": [
            "Nama depan: Arif\n",
            "Nama belakang: Rachman\n",
            "Asal: Jakarta\n",
            "Hobi: Masak\n",
            "Halo nama saya  Arif Rachman , saya berasal dari  Jakarta  dan hobby saya adalah  Masak\n"
          ]
        }
      ],
      "source": [
        "def lat1():\n",
        "   namaDepan = input(\"Nama depan: \")\n",
        "   namaBelakang = input(\"Nama belakang: \")\n",
        "   asal = input(\"Asal: \")\n",
        "   hobi = input(\"Hobi: \")\n",
        "   print(\"Halo nama saya \",namaDepan,namaBelakang,\", saya berasal dari \",asal,\" dan hobby saya adalah \",hobi)\n",
        "\n",
        "lat1()"
      ]
    },
    {
      "cell_type": "markdown",
      "id": "263ef170",
      "metadata": {
        "id": "263ef170"
      },
      "source": [
        "## Latihan 2:\n",
        "\n",
        "Skala Richter \n",
        "Magnitude Descriptor\n",
        "Less than 2.0 Micro\n",
        "2.0 to less than 3.0 Very Minor\n",
        "3.0 to less than 4.0 Minor\n",
        "4.0 to less than 5.0 Light\n",
        "5.0 to less than 6.0 Moderate\n",
        "6.0 to less than 7.0 Strong\n",
        "7.0 to less than 8.0 Major\n",
        "8.0 to less than 10.0 Great\n",
        "10.0 or more Meteoric\n",
        "\n",
        "* Buatlah program yang membaca besarnya magnitude dari user dan memberikan keluaran terkait grade dari kekuatan gempa.\n",
        "* Contoh keluaran :\n",
        "  **'Gempa berskala 5,5 berkategori Moderat'**  "
      ]
    },
    {
      "cell_type": "code",
      "execution_count": 55,
      "id": "ed7ae978",
      "metadata": {
        "id": "ed7ae978",
        "colab": {
          "base_uri": "https://localhost:8080/",
          "height": 53
        },
        "outputId": "2434e132-b4cb-4c33-ebdd-fdb77cb071f3"
      },
      "outputs": [
        {
          "name": "stdout",
          "output_type": "stream",
          "text": [
            "Masukkan Skala Gempa: 3\n"
          ]
        },
        {
          "output_type": "execute_result",
          "data": {
            "text/plain": [
              "'Gempa berskala 3.0 berkategori Minor'"
            ],
            "application/vnd.google.colaboratory.intrinsic+json": {
              "type": "string"
            }
          },
          "metadata": {},
          "execution_count": 55
        }
      ],
      "source": [
        "def lat2():\n",
        "  mag = float(input(\"Masukkan Skala Gempa: \"))\n",
        "  if(mag<2.0):\n",
        "    scale = \"Micro\"\n",
        "  elif(mag < 3.0):\n",
        "    scale = \"Very minor\"\n",
        "  elif(mag < 4.0):\n",
        "    scale = \"Minor\"\n",
        "  elif(mag < 5.0):\n",
        "    scale = \"Light\"\n",
        "  elif(mag < 6.0):\n",
        "    scale = \"Moderate\"\n",
        "  elif(mag < 7.0):\n",
        "    scale = \"Strong\"\n",
        "  elif(mag < 8.0):\n",
        "    scale = \"Major\"\n",
        "  elif(mag < 10.0):\n",
        "      scale = \"Great\"\n",
        "  else:\n",
        "      scale = \"Meteoric\"\n",
        "  \n",
        "  return \"Gempa berskala \" + str(mag) + \" berkategori \" + scale\n",
        "\n",
        "lat2()"
      ]
    },
    {
      "cell_type": "markdown",
      "id": "7ffff849",
      "metadata": {
        "id": "7ffff849"
      },
      "source": [
        "## Latihan 3:\n",
        "* Buatlah script yang menerima input berupa lima digit angka dari user.</br>\n",
        "* Pisahkan angka menjadi digit individual. Print secara terpisah dengan separator berupa tiga spasi\n",
        "* Contoh: Jika user memasukkan 42339, maka hasil print</br> \n",
        "4   2   3   3   9</br>\n",
        "* Asumsikan bahwa user selalu menginput angka dalam panjang yang tepat. \n",
        "* Use both the floor division and remainder operations to “pick off ” each digit."
      ]
    },
    {
      "cell_type": "code",
      "execution_count": 56,
      "id": "64806f4b",
      "metadata": {
        "id": "64806f4b",
        "colab": {
          "base_uri": "https://localhost:8080/"
        },
        "outputId": "e43b7f29-8081-4446-f671-fcdc852d6348"
      },
      "outputs": [
        {
          "output_type": "stream",
          "name": "stdout",
          "text": [
            "Masukkan lima digit angka: 76543\n",
            "7   6   5   4   3   \n"
          ]
        }
      ],
      "source": [
        "angka = input(\"Masukkan lima digit angka: \")\n",
        "angka = [char for char in angka]\n",
        "p = \"\"\n",
        "for char in angka:\n",
        "  p += char + \"   \"\n",
        "\n",
        "print(p)"
      ]
    },
    {
      "cell_type": "markdown",
      "id": "4515eaa8",
      "metadata": {
        "id": "4515eaa8"
      },
      "source": [
        "## Latihan 4 :\n",
        "Konversi derajat celcius ke fahrenheit diatur oleh persamaan berikut :\n",
        "$F = (\\frac{9}{5}) * C + 32$\n",
        "\n",
        "Gunakan fungsi ini untuk memprint suatu daftar konversi temperatur dari celcius untuk range 0–100.\n",
        "Gunakan presisi 1 digit."
      ]
    },
    {
      "cell_type": "code",
      "execution_count": null,
      "id": "e48ec4ff",
      "metadata": {
        "id": "e48ec4ff"
      },
      "outputs": [],
      "source": [
        "suhu = [\n",
        "    9, 15, 82, 38, 89, 47, 51, 36, 83, 38,\n",
        "    74, 47, 61, 22, 26, 81, 24, 13, 79, 36,\n",
        "    63, 58, 29, 93, 75, 94, 14, 66, 3, 15,\n",
        "    20, 62, 27, 59, 29, 65, 94, 68, 21, 100\n",
        "]"
      ]
    },
    {
      "cell_type": "code",
      "source": [
        "def ctof(celcius):\n",
        "  return round(9/5*celcius + 32,1)\n",
        "fahrenheit = []\n",
        "print(\"Celcius \\t Fahrenheit\")\n",
        "for s in suhu:\n",
        "  print(str(s) +\" \\t\\t \"+str(ctof(s)))\n",
        "  fahrenheit.append(ctof(s)) \n",
        "\n",
        "#print(fahrenheit)"
      ],
      "metadata": {
        "colab": {
          "base_uri": "https://localhost:8080/"
        },
        "id": "4BocEudZOYo2",
        "outputId": "f330244f-aeaa-4c52-a742-57d1d946e1d7"
      },
      "id": "4BocEudZOYo2",
      "execution_count": 57,
      "outputs": [
        {
          "output_type": "stream",
          "name": "stdout",
          "text": [
            "Celcius \t Fahrenheit\n",
            "9 \t\t 48.2\n",
            "15 \t\t 59.0\n",
            "82 \t\t 179.6\n",
            "38 \t\t 100.4\n",
            "89 \t\t 192.2\n",
            "47 \t\t 116.6\n",
            "51 \t\t 123.8\n",
            "36 \t\t 96.8\n",
            "83 \t\t 181.4\n",
            "38 \t\t 100.4\n",
            "74 \t\t 165.2\n",
            "47 \t\t 116.6\n",
            "61 \t\t 141.8\n",
            "22 \t\t 71.6\n",
            "26 \t\t 78.8\n",
            "81 \t\t 177.8\n",
            "24 \t\t 75.2\n",
            "13 \t\t 55.4\n",
            "79 \t\t 174.2\n",
            "36 \t\t 96.8\n",
            "63 \t\t 145.4\n",
            "58 \t\t 136.4\n",
            "29 \t\t 84.2\n",
            "93 \t\t 199.4\n",
            "75 \t\t 167.0\n",
            "94 \t\t 201.2\n",
            "14 \t\t 57.2\n",
            "66 \t\t 150.8\n",
            "3 \t\t 37.4\n",
            "15 \t\t 59.0\n",
            "20 \t\t 68.0\n",
            "62 \t\t 143.6\n",
            "27 \t\t 80.6\n",
            "59 \t\t 138.2\n",
            "29 \t\t 84.2\n",
            "65 \t\t 149.0\n",
            "94 \t\t 201.2\n",
            "68 \t\t 154.4\n",
            "21 \t\t 69.8\n",
            "100 \t\t 212.0\n"
          ]
        }
      ]
    },
    {
      "cell_type": "markdown",
      "id": "9bf96ef0",
      "metadata": {
        "id": "9bf96ef0"
      },
      "source": [
        "## Latihan 5 :\n",
        "Pak Joni memiliki rencana untuk membeli sebuah rumah, tetapi sayangnya dia tidak punya banyak uang. Dia berencana untuk membeli tetapi dengan cicilan ke bank saja. Namun, sayangnya lagi-lagi untuk membayar DP pinjaman bankpun ia tidak punya. Oleh karena itu, dia berencana untuk menabung setiap bulan agar bisa membayar DP. Tugas anda : tentukan berapa lama dia harus menabung agar dia bisa membayar cicilan rumah tersebut.\n",
        "1.\tMintalah pak joni untuk membuat harga perkiraan rumah yang dia inginkan simpan pada variable, total_cost.\n",
        "2.\tBiasanya untuk DP rumah, bank akan mensyaratkan pembayaran DP sebesar 25%, simpan pada variabel portion_down_payment = 0.25.\n",
        "3.\tTanyakan pak joni berapa uang yang sudah dia punya selama ini yang dicadangkan untuk membayar DP, simpan pada variable current_savings nilai defaultnya boleh anda set 0. \n",
        "4.\tAsumsikan bahwa pak joni menginvestasikan tabungan dengan bijak, sehingga memperoleh bunga 5 % per tahun. \n",
        "5.\tSimpan gaji tahunan pak joni dalam variabel annual_salary.\n",
        "6.\tTanyakan pak Joni persen dari gaji pak joni yang dia sisishkan untuk menabung simpan pada variable portion_saved. Variabel ini berbentuk decimal (contoh 0.1 untuk persentase 10%). \n",
        "7.\tPada akhir tiap bulan bulan, tabungan anda akan meningkat sesuai dengan besarnya investasi  ditambah dengan porsi gaji yang ditabungkan (gaji tahunan/ 12)."
      ]
    },
    {
      "cell_type": "code",
      "execution_count": 60,
      "id": "4f0208b7",
      "metadata": {
        "id": "4f0208b7",
        "colab": {
          "base_uri": "https://localhost:8080/"
        },
        "outputId": "cfd3e16a-3bdf-4c22-b6a0-77d0bbd6cb3a"
      },
      "outputs": [
        {
          "output_type": "stream",
          "name": "stdout",
          "text": [
            "Masukkan harga rumah yang diinginkan: 1000\n",
            "Masukkan uang yang sudah kamu punya: 100\n",
            "Masukkan gaji tahunan: 600\n",
            "Berapa persen gaji yang disisihkan setiap bulan : 50\n",
            "125.0\n",
            "156.25\n",
            "181.25\n",
            "206.25\n",
            "231.25\n",
            "256.25\n",
            "Lama menabung: 0 tahun, 6 bulan\n"
          ]
        }
      ],
      "source": [
        "total_cost =  float(input(\"Masukkan harga rumah yang diinginkan: \"))\n",
        "portion_down_payment = 0.25\n",
        "current_savings = float(input(\"Masukkan uang yang sudah kamu punya: \"))\n",
        "bunga = 0.05 #5% per tahun\n",
        "annual_salary = float(input(\"Masukkan gaji tahunan: \"))\n",
        "portion_saved = float(input(\"Berapa persen gaji yang disisihkan setiap bulan : \"))\n",
        "portion_saved_decimal = portion_saved/100\n",
        "bulan = 0\n",
        "bunga_tahunan = 0\n",
        "\n",
        "DP = total_cost * portion_down_payment\n",
        "SimpananTiapBulan = (annual_salary/12)*portion_saved_decimal\n",
        "\n",
        "while current_savings < DP:\n",
        "  current_savings += SimpananTiapBulan\n",
        "  print(current_savings)\n",
        "  if(bulan%12 == 0):\n",
        "    bunga_tahunan = current_savings * bunga\n",
        "    current_savings += bunga_tahunan\n",
        "    #bulan = 1\n",
        "    #tahun += 1\n",
        "  bulan += 1\n",
        "\n",
        "\n",
        "\n",
        "print(\"Lama menabung: \"+str(bulan//12)+\" tahun, \"+str(bulan%12)+\" bulan\")\n"
      ]
    },
    {
      "cell_type": "markdown",
      "id": "42d1ceff",
      "metadata": {
        "id": "42d1ceff"
      },
      "source": [
        "## Latihan 6:\n",
        "\n",
        "Berikut adalah potongan opini dari kompas 14 Juni 2022 :</br>\n",
        "\"Big data yang menjadi polemik dua bulan lalu menunjukkan bahwa big data lebih banyak dibahas aspek politiknya, seperti dalam wacana penundaan jadwal pemilu, bukan aspek ekonominya. Padahal kedua aspek ini sama berguna bagi masyarakat yang menjadi konsumen atau juga merangkap produsen potensial, bukan hanya target untuk kepentingan politik.\"\n",
        "\n",
        "Pada potongan di atas terdapat beberapa kata stopwords, seperti yang ada di list stopwords.</br>\n",
        "Tugas anda adalah untuk membuat suatu list baru, yang berisi seluruh kata tanpa ada stopword."
      ]
    },
    {
      "cell_type": "code",
      "execution_count": 61,
      "id": "4486ca6b",
      "metadata": {
        "id": "4486ca6b"
      },
      "outputs": [],
      "source": [
        "stopwords = ['yang', 'lalu', 'bahwa', 'by', 'lebih', 'seperti', 'bukan', 'ini', 'bagi', 'atau', \n",
        "             \"hanya\", \"untuk\", \"juga\"]"
      ]
    },
    {
      "cell_type": "code",
      "source": [
        "words = \"\"\"Big data yang menjadi polemik dua bulan lalu menunjukkan bahwa big data lebih banyak dibahas aspek politiknya, seperti dalam wacana penundaan jadwal pemilu, bukan aspek ekonominya. Padahal kedua aspek ini sama berguna bagi masyarakat yang menjadi konsumen atau juga merangkap produsen potensial, bukan hanya target untuk kepentingan politik.\"\"\"\n"
      ],
      "metadata": {
        "id": "pAzYyQFOY4-9"
      },
      "id": "pAzYyQFOY4-9",
      "execution_count": 62,
      "outputs": []
    },
    {
      "cell_type": "code",
      "source": [
        "listRes = list(words.split(\" \"))\n",
        "new_list = [kata for kata in listRes if kata not in stopwords]\n",
        "print(new_list)\n",
        "\n",
        "\n"
      ],
      "metadata": {
        "colab": {
          "base_uri": "https://localhost:8080/"
        },
        "id": "_fMFxvXUY6Fd",
        "outputId": "c0e9954b-48f7-4d2f-9c1c-2548e9e97e46"
      },
      "id": "_fMFxvXUY6Fd",
      "execution_count": 78,
      "outputs": [
        {
          "output_type": "stream",
          "name": "stdout",
          "text": [
            "['Big', 'data', 'menjadi', 'polemik', 'dua', 'bulan', 'menunjukkan', 'big', 'data', 'banyak', 'dibahas', 'aspek', 'politiknya,', 'dalam', 'wacana', 'penundaan', 'jadwal', 'pemilu,', 'aspek', 'ekonominya.', 'Padahal', 'kedua', 'aspek', 'sama', 'berguna', 'masyarakat', 'menjadi', 'konsumen', 'merangkap', 'produsen', 'potensial,', 'target', 'kepentingan', 'politik.']\n"
          ]
        }
      ]
    },
    {
      "cell_type": "markdown",
      "id": "9ccb7357",
      "metadata": {
        "id": "9ccb7357"
      },
      "source": [
        "## Latihan 7\n",
        "\n",
        "Buatlah suatu dictionary bernama **letter_counts** yang menghitung frekuensi kemunculan dari suatu huruf di dalam string dan berapa kali huruf itu muncul. </br>\n",
        "\n",
        "**Perhatian:**\n",
        "Setiap huruf besar atau huruf kecil dalam alphabet yang sama harus dihitung sebagai huruf yang sama"
      ]
    },
    {
      "cell_type": "code",
      "execution_count": 76,
      "id": "ac7ddcf7",
      "metadata": {
        "id": "ac7ddcf7"
      },
      "outputs": [],
      "source": [
        "string1 = \"\"\"There is a tide in the affairs of men, Which taken at the flood, \n",
        "leads on to fortune. Omitted, all the voyage of their life is bound in shallows\n",
        "and in miseries. On such a full sea are we now afloat. \n",
        "And we must take the current when it serves, or lose our ventures.\"\"\""
      ]
    },
    {
      "cell_type": "code",
      "source": [
        "letter_counts = {}\n",
        "\n",
        "letters = words.lower()\n",
        "\n",
        "for letter in letters:\n",
        "  if letter not in [' ','\\n',',','.']:\n",
        "    letter_counts[letter] = letter_counts.get(letter, 0) + 1\n",
        "    \n",
        "# print(letter_counts)\n",
        "for key,value in letter_counts.items():\n",
        "  print(key,\"=\",value)\n"
      ],
      "metadata": {
        "colab": {
          "base_uri": "https://localhost:8080/"
        },
        "id": "vBH9MSeJZFiU",
        "outputId": "ff1325b1-c89c-4aeb-9638-e30e8cf41dcb"
      },
      "id": "vBH9MSeJZFiU",
      "execution_count": 77,
      "outputs": [
        {
          "output_type": "stream",
          "name": "stdout",
          "text": [
            "b = 11\n",
            "i = 19\n",
            "g = 10\n",
            "d = 12\n",
            "a = 56\n",
            "t = 12\n",
            "y = 7\n",
            "n = 30\n",
            "m = 11\n",
            "e = 22\n",
            "j = 5\n",
            "p = 14\n",
            "o = 8\n",
            "l = 12\n",
            "k = 18\n",
            "u = 17\n",
            "h = 5\n",
            "w = 3\n",
            "s = 10\n",
            "r = 6\n",
            "c = 1\n"
          ]
        }
      ]
    },
    {
      "cell_type": "markdown",
      "id": "711281f9",
      "metadata": {
        "id": "711281f9"
      },
      "source": [
        "## Latihan 8\n",
        "Berikut adalah JSON dari sebuah timestamp cuaca :\n",
        "Dari data tersebut, buatlah suatu list di dalam list yang berisi jam cuaca, dan cuaca saja di tanggal-tanggal yang cuacanya hujan ringan saja."
      ]
    },
    {
      "cell_type": "code",
      "execution_count": 44,
      "id": "af198fe0",
      "metadata": {
        "id": "af198fe0"
      },
      "outputs": [],
      "source": [
        "weather=[{\"jamCuaca\":\"2022-06-14 00:00:00\",\"kodeCuaca\":\"60\",\"cuaca\":\"Hujan Ringan\",\"humidity\":\"85\",\"tempC\":\"23\",\"tempF\":\"73\"},\n",
        " {\"jamCuaca\":\"2022-06-14 06:00:00\",\"kodeCuaca\":\"60\",\"cuaca\":\"Hujan Ringan\",\"humidity\":\"55\",\"tempC\":\"33\",\"tempF\":\"91\"},\n",
        " {\"jamCuaca\":\"2022-06-14 12:00:00\",\"kodeCuaca\":\"60\",\"cuaca\":\"Hujan Ringan\",\"humidity\":\"85\",\"tempC\":\"23\",\"tempF\":\"73\"},\n",
        " {\"jamCuaca\":\"2022-06-14 18:00:00\",\"kodeCuaca\":\"3\",\"cuaca\":\"Berawan\",\"humidity\":\"90\",\"tempC\":\"23\",\"tempF\":\"73\"},\n",
        " {\"jamCuaca\":\"2022-06-15 00:00:00\",\"kodeCuaca\":\"1\",\"cuaca\":\"Cerah Berawan\",\"humidity\":\"80\",\"tempC\":\"25\",\"tempF\":\"77\"},\n",
        " {\"jamCuaca\":\"2022-06-15 06:00:00\",\"kodeCuaca\":\"60\",\"cuaca\":\"Hujan Ringan\",\"humidity\":\"65\",\"tempC\":\"32\",\"tempF\":\"90\"},\n",
        " {\"jamCuaca\":\"2022-06-15 12:00:00\",\"kodeCuaca\":\"60\",\"cuaca\":\"Hujan Ringan\",\"humidity\":\"80\",\"tempC\":\"25\",\"tempF\":\"77\"},\n",
        " {\"jamCuaca\":\"2022-06-15 18:00:00\",\"kodeCuaca\":\"3\",\"cuaca\":\"Berawan\",\"humidity\":\"90\",\"tempC\":\"23\",\"tempF\":\"73\"},\n",
        " {\"jamCuaca\":\"2022-06-16 00:00:00\",\"kodeCuaca\":\"60\",\"cuaca\":\"Hujan Ringan\",\"humidity\":\"80\",\"tempC\":\"25\",\"tempF\":\"77\"},\n",
        " {\"jamCuaca\":\"2022-06-16 06:00:00\",\"kodeCuaca\":\"60\",\"cuaca\":\"Hujan Ringan\",\"humidity\":\"55\",\"tempC\":\"32\",\"tempF\":\"90\"},\n",
        " {\"jamCuaca\":\"2022-06-16 12:00:00\",\"kodeCuaca\":\"60\",\"cuaca\":\"Hujan Ringan\",\"humidity\":\"80\",\"tempC\":\"25\",\"tempF\":\"77\"},\n",
        " {\"jamCuaca\":\"2022-06-16 18:00:00\",\"kodeCuaca\":\"3\",\"cuaca\":\"Berawan\",\"humidity\":\"90\",\"tempC\":\"23\",\"tempF\":\"73\"}]"
      ]
    },
    {
      "cell_type": "code",
      "source": [
        "hasil = []\n",
        "for w in weather:\n",
        "  if(w['cuaca'] == \"Hujan Ringan\"):\n",
        "    hasil.append([w['jamCuaca'],w['cuaca']])  \n",
        "\n",
        "for h in hasil:\n",
        "  print(h)\n"
      ],
      "metadata": {
        "colab": {
          "base_uri": "https://localhost:8080/"
        },
        "id": "5YcqFPp0Z-SO",
        "outputId": "9d1cead7-c53a-42cd-f2b5-936823493aab"
      },
      "id": "5YcqFPp0Z-SO",
      "execution_count": 53,
      "outputs": [
        {
          "output_type": "stream",
          "name": "stdout",
          "text": [
            "['2022-06-14 00:00:00', 'Hujan Ringan']\n",
            "['2022-06-14 06:00:00', 'Hujan Ringan']\n",
            "['2022-06-14 12:00:00', 'Hujan Ringan']\n",
            "['2022-06-15 06:00:00', 'Hujan Ringan']\n",
            "['2022-06-15 12:00:00', 'Hujan Ringan']\n",
            "['2022-06-16 00:00:00', 'Hujan Ringan']\n",
            "['2022-06-16 06:00:00', 'Hujan Ringan']\n",
            "['2022-06-16 12:00:00', 'Hujan Ringan']\n"
          ]
        }
      ]
    }
  ],
  "metadata": {
    "kernelspec": {
      "display_name": "Python 3 (ipykernel)",
      "language": "python",
      "name": "python3"
    },
    "language_info": {
      "codemirror_mode": {
        "name": "ipython",
        "version": 3
      },
      "file_extension": ".py",
      "mimetype": "text/x-python",
      "name": "python",
      "nbconvert_exporter": "python",
      "pygments_lexer": "ipython3",
      "version": "3.9.7"
    },
    "colab": {
      "name": "PJJ Data Analityc III DJA Latihan Basic Python.ipynb",
      "provenance": [],
      "collapsed_sections": []
    }
  },
  "nbformat": 4,
  "nbformat_minor": 5
}